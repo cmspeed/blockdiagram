{
 "cells": [
  {
   "cell_type": "code",
   "execution_count": 4,
   "metadata": {},
   "outputs": [],
   "source": [
    "import matplotlib.pyplot as plt\n",
    "import numpy as np\n",
    "import pickle\n",
    "from mayavi import mlab\n",
    "import blockdiagram as bd\n",
    "%matplotlib qt"
   ]
  },
  {
   "cell_type": "code",
   "execution_count": 5,
   "metadata": {},
   "outputs": [],
   "source": [
    "%matplotlib qt"
   ]
  },
  {
   "cell_type": "code",
   "execution_count": 8,
   "metadata": {},
   "outputs": [],
   "source": [
    "# load example model\n",
    "chb_3d = pickle.load(open(\"example_fluvial_model.p\", \"rb\" ))"
   ]
  },
  {
   "cell_type": "code",
   "execution_count": 9,
   "metadata": {},
   "outputs": [
    {
     "data": {
      "text/plain": [
       "(200, 181, 124)"
      ]
     },
     "execution_count": 9,
     "metadata": {},
     "output_type": "execute_result"
    }
   ],
   "source": [
    "np.shape(chb_3d.strat)"
   ]
  },
  {
   "cell_type": "markdown",
   "metadata": {},
   "source": [
    "## Create block diagram"
   ]
  },
  {
   "cell_type": "code",
   "execution_count": 10,
   "metadata": {},
   "outputs": [
    {
     "name": "stdout",
     "output_type": "stream",
     "text": [
      "Percent: [####################] 99.1869918699187% block 1 done, out of 1 blocks\n"
     ]
    }
   ],
   "source": [
    "mlab.figure(bgcolor=(1,1,1)) \n",
    "ve = 10.0 # vertical exaggeration\n",
    "scale = 0.1 # scaling of diagram (important for 3D printing)\n",
    "strat_switch = 1 # equals 1 if you want stratigraphy displayed on the sides\n",
    "layers_switch = 0 # equals 1 if you want stratigraphic boundaries displayed on the sides\n",
    "contour_switch = 0 # equals 1 if you want contours displayed on the top surface\n",
    "dx = 10.0 # cell size for display\n",
    "bottom = np.min(chb_3d.strat) - 1.5 # elevation of bottom side of diagram\n",
    "color_mode = 'property' # determines how the stratigraphy will be colored; can be 'property', 'facies', or 'time'\n",
    "colors = [[0.5,0.25,0],[0.9,0.9,0],[0.5,0.25,0]] # colors for 'facies' display\n",
    "line_thickness = 1.0 # thickness of lines if 'layers_switch' is 1\n",
    "gap = 20 # distance between exploded blocks (if any; in number of gridcells)\n",
    "h = 5.0 # channel depth (m)\n",
    "nx = 1 # number of blocks in x direction\n",
    "ny = 1 # number of blocks in y direction\n",
    "export = 0\n",
    "bd.create_exploded_view(chb_3d.strat,chb_3d.facies,chb_3d.topo,h,nx,ny,gap,dx,ve,scale,strat_switch,\n",
    "                        layers_switch,contour_switch,color_mode,colors,line_thickness,bottom,export)"
   ]
  },
  {
   "cell_type": "code",
   "execution_count": 13,
   "metadata": {},
   "outputs": [
    {
     "name": "stdout",
     "output_type": "stream",
     "text": [
      "Percent: [####################] 99.1869918699187% block 1 done, out of 4 blocks\n",
      "Percent: [####################] 99.1869918699187% block 2 done, out of 4 blocks\n",
      "Percent: [####################] 99.1869918699187% block 3 done, out of 4 blocks\n",
      "Percent: [####################] 99.1869918699187% block 4 done, out of 4 blocks\n"
     ]
    }
   ],
   "source": [
    "bd.create_exploded_view(chb_3d.strat,chb_3d.facies,chb_3d.topo,h,2,2,gap,dx,ve,scale,strat_switch,\n",
    "                        layers_switch,contour_switch,color_mode,colors,line_thickness,bottom,export)"
   ]
  },
  {
   "cell_type": "markdown",
   "metadata": {},
   "source": [
    "## Create exploded-view diagram"
   ]
  },
  {
   "cell_type": "code",
   "execution_count": null,
   "metadata": {},
   "outputs": [
    {
     "name": "stdout",
     "output_type": "stream",
     "text": [
      "Percent: [################----] 78.86178861788618% "
     ]
    }
   ],
   "source": [
    "mlab.figure(bgcolor=(1,1,1))\n",
    "bd.create_exploded_view(chb_3d.strat,chb_3d.facies,chb_3d.topo,h,1,1,gap,dx,ve,scale,strat_switch,\n",
    "                        layers_switch,contour_switch,color_mode,colors,line_thickness,bottom,export)\n"
   ]
  },
  {
   "cell_type": "markdown",
   "metadata": {},
   "source": [
    "## Create random section"
   ]
  },
  {
   "cell_type": "code",
   "execution_count": 14,
   "metadata": {},
   "outputs": [],
   "source": [
    "xcoords, ycoords = bd.select_random_section(chb_3d.strat) # define x and y coordinates for random section"
   ]
  },
  {
   "cell_type": "code",
   "execution_count": 15,
   "metadata": {},
   "outputs": [
    {
     "name": "stdout",
     "output_type": "stream",
     "text": [
      "Percent: [####################] 99.1869918699187% panel 1 done, out of 2 panels\n",
      "Percent: [####################] 99.1869918699187% panel 2 done, out of 2 panels\n"
     ]
    }
   ],
   "source": [
    "mlab.figure(bgcolor=(1,1,1))\n",
    "color_mode = 'property'\n",
    "bd.create_random_section_n_points(chb_3d.strat,chb_3d.facies,chb_3d.topo,h,scale,ve,color_mode,colors,\n",
    "                                   xcoords[:-1],xcoords[1:],ycoords[:-1],ycoords[1:],dx,bottom,export)"
   ]
  },
  {
   "cell_type": "markdown",
   "metadata": {},
   "source": [
    "## Create 'random cookie'"
   ]
  },
  {
   "cell_type": "code",
   "execution_count": 31,
   "metadata": {},
   "outputs": [],
   "source": [
    "xcoords, ycoords = bd.select_random_section(chb_3d.strat) # define x and y coordinates for random section"
   ]
  },
  {
   "cell_type": "code",
   "execution_count": 32,
   "metadata": {},
   "outputs": [
    {
     "name": "stdout",
     "output_type": "stream",
     "text": [
      "Percent: [####################] 99.1869918699187% panel 1 done, out of 8 panels\n",
      "Percent: [####################] 99.1869918699187% panel 2 done, out of 8 panels\n",
      "Percent: [####################] 99.1869918699187% panel 3 done, out of 8 panels\n",
      "Percent: [####################] 99.1869918699187% panel 4 done, out of 8 panels\n",
      "Percent: [####################] 99.1869918699187% panel 5 done, out of 8 panels\n",
      "Percent: [####################] 99.1869918699187% panel 6 done, out of 8 panels\n",
      "Percent: [####################] 99.1869918699187% panel 7 done, out of 8 panels\n",
      "Percent: [####################] 99.1869918699187% "
     ]
    }
   ],
   "source": [
    "mlab.figure(bgcolor=(1,1,1))\n",
    "bd.create_random_cookie(chb_3d.strat,chb_3d.facies,chb_3d.topo,h,scale,ve,color_mode,colors,xcoords[:-1],xcoords[1:],\n",
    "                        ycoords[:-1],ycoords[1:],dx,bottom,export)"
   ]
  },
  {
   "cell_type": "markdown",
   "metadata": {},
   "source": [
    "## Create fence diagram"
   ]
  },
  {
   "cell_type": "code",
   "execution_count": 44,
   "metadata": {},
   "outputs": [
    {
     "name": "stdout",
     "output_type": "stream",
     "text": [
      "Percent: [####################] 99.1869918699187% done with section 1 of 6 strike sections\n",
      "Percent: [####################] 99.1869918699187% done with section 2 of 6 strike sections\n",
      "Percent: [####################] 99.1869918699187% done with section 3 of 6 strike sections\n",
      "Percent: [####################] 99.1869918699187% done with section 4 of 6 strike sections\n",
      "Percent: [####################] 99.1869918699187% done with section 5 of 6 strike sections\n",
      "Percent: [####################] 99.1869918699187% done with section 6 of 6 strike sections\n",
      "Percent: [####################] 99.1869918699187% done with section 1 of 2 dip sections\n",
      "Percent: [####################] 99.1869918699187% done with section 2 of 2 dip sections\n"
     ]
    }
   ],
   "source": [
    "mlab.figure(bgcolor=(1,1,1))\n",
    "bd.create_fence_diagram(chb_3d.strat,chb_3d.facies,chb_3d.topo,h,6,2,gap,dx,ve,scale,layers_switch,color_mode,colors,line_thickness,bottom,export)"
   ]
  }
 ],
 "metadata": {
  "kernelspec": {
   "display_name": "Python 3",
   "language": "python",
   "name": "python3"
  },
  "language_info": {
   "codemirror_mode": {
    "name": "ipython",
    "version": 3
   },
   "file_extension": ".py",
   "mimetype": "text/x-python",
   "name": "python",
   "nbconvert_exporter": "python",
   "pygments_lexer": "ipython3",
   "version": "3.6.8"
  }
 },
 "nbformat": 4,
 "nbformat_minor": 2
}
